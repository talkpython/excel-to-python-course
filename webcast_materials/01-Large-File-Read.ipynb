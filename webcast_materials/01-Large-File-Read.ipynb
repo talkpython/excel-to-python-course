{
 "cells": [
  {
   "cell_type": "markdown",
   "metadata": {},
   "source": [
    "### Gather data\n",
    "\n",
    "Excel has ~1M row limit which is easy to exceed today. Pandas can read these files and process them efficiently."
   ]
  },
  {
   "cell_type": "code",
   "execution_count": 1,
   "metadata": {},
   "outputs": [],
   "source": [
    "import pandas as pd\n",
    "from pathlib import Path"
   ]
  },
  {
   "cell_type": "code",
   "execution_count": 2,
   "metadata": {},
   "outputs": [],
   "source": [
    "# CSV file with 1.1M rows (96MB)\n",
    "# Can be read directly from the internet\n",
    "df = pd.read_csv('https://talkpython.fm/2019_customer_transactions.csv')\n",
    "\n",
    "# Read from a local file\n",
    "# File is not stored in github\n",
    "#csv_file = Path.cwd() / 'data' / 'raw' / '2019_customer_transactions.csv'\n",
    "#df = pd.read_csv(csv_file)"
   ]
  },
  {
   "cell_type": "code",
   "execution_count": 3,
   "metadata": {},
   "outputs": [
    {
     "data": {
      "text/html": [
       "<div>\n",
       "<style scoped>\n",
       "    .dataframe tbody tr th:only-of-type {\n",
       "        vertical-align: middle;\n",
       "    }\n",
       "\n",
       "    .dataframe tbody tr th {\n",
       "        vertical-align: top;\n",
       "    }\n",
       "\n",
       "    .dataframe thead th {\n",
       "        text-align: right;\n",
       "    }\n",
       "</style>\n",
       "<table border=\"1\" class=\"dataframe\">\n",
       "  <thead>\n",
       "    <tr style=\"text-align: right;\">\n",
       "      <th></th>\n",
       "      <th>cust_num</th>\n",
       "      <th>sku</th>\n",
       "      <th>category</th>\n",
       "      <th>qty</th>\n",
       "      <th>list_price</th>\n",
       "      <th>discount_rate</th>\n",
       "      <th>invoice_price</th>\n",
       "      <th>invoice_num</th>\n",
       "      <th>invoice_date_time</th>\n",
       "      <th>invoice_total</th>\n",
       "    </tr>\n",
       "  </thead>\n",
       "  <tbody>\n",
       "    <tr>\n",
       "      <th>0</th>\n",
       "      <td>Z00562</td>\n",
       "      <td>PB200</td>\n",
       "      <td>pens</td>\n",
       "      <td>1</td>\n",
       "      <td>3.0</td>\n",
       "      <td>0.27</td>\n",
       "      <td>2.19</td>\n",
       "      <td>7612</td>\n",
       "      <td>2019-08-04 20:41:56.521097</td>\n",
       "      <td>2.19</td>\n",
       "    </tr>\n",
       "    <tr>\n",
       "      <th>1</th>\n",
       "      <td>H79033</td>\n",
       "      <td>PB24</td>\n",
       "      <td>pens</td>\n",
       "      <td>5</td>\n",
       "      <td>3.0</td>\n",
       "      <td>0.24</td>\n",
       "      <td>2.28</td>\n",
       "      <td>86854</td>\n",
       "      <td>2019-01-17 03:17:41.873383</td>\n",
       "      <td>11.40</td>\n",
       "    </tr>\n",
       "    <tr>\n",
       "      <th>2</th>\n",
       "      <td>U23721</td>\n",
       "      <td>PB24</td>\n",
       "      <td>pens</td>\n",
       "      <td>14</td>\n",
       "      <td>3.0</td>\n",
       "      <td>0.13</td>\n",
       "      <td>2.61</td>\n",
       "      <td>21950</td>\n",
       "      <td>2019-03-03 21:22:11.135135</td>\n",
       "      <td>36.54</td>\n",
       "    </tr>\n",
       "    <tr>\n",
       "      <th>3</th>\n",
       "      <td>N80809</td>\n",
       "      <td>PE11</td>\n",
       "      <td>pencils</td>\n",
       "      <td>14</td>\n",
       "      <td>2.0</td>\n",
       "      <td>0.04</td>\n",
       "      <td>1.92</td>\n",
       "      <td>23805</td>\n",
       "      <td>2019-12-19 19:54:38.391874</td>\n",
       "      <td>26.88</td>\n",
       "    </tr>\n",
       "    <tr>\n",
       "      <th>4</th>\n",
       "      <td>K89557</td>\n",
       "      <td>PG22</td>\n",
       "      <td>pens</td>\n",
       "      <td>10</td>\n",
       "      <td>3.0</td>\n",
       "      <td>0.06</td>\n",
       "      <td>2.82</td>\n",
       "      <td>35154</td>\n",
       "      <td>2019-02-27 20:19:52.681473</td>\n",
       "      <td>28.20</td>\n",
       "    </tr>\n",
       "  </tbody>\n",
       "</table>\n",
       "</div>"
      ],
      "text/plain": [
       "  cust_num    sku category  qty  list_price  discount_rate  invoice_price  \\\n",
       "0   Z00562  PB200     pens    1         3.0           0.27           2.19   \n",
       "1   H79033   PB24     pens    5         3.0           0.24           2.28   \n",
       "2   U23721   PB24     pens   14         3.0           0.13           2.61   \n",
       "3   N80809   PE11  pencils   14         2.0           0.04           1.92   \n",
       "4   K89557   PG22     pens   10         3.0           0.06           2.82   \n",
       "\n",
       "   invoice_num           invoice_date_time  invoice_total  \n",
       "0         7612  2019-08-04 20:41:56.521097           2.19  \n",
       "1        86854  2019-01-17 03:17:41.873383          11.40  \n",
       "2        21950  2019-03-03 21:22:11.135135          36.54  \n",
       "3        23805  2019-12-19 19:54:38.391874          26.88  \n",
       "4        35154  2019-02-27 20:19:52.681473          28.20  "
      ]
     },
     "execution_count": 3,
     "metadata": {},
     "output_type": "execute_result"
    }
   ],
   "source": [
    "df.head()"
   ]
  },
  {
   "cell_type": "code",
   "execution_count": 4,
   "metadata": {},
   "outputs": [
    {
     "name": "stdout",
     "output_type": "stream",
     "text": [
      "<class 'pandas.core.frame.DataFrame'>\n",
      "RangeIndex: 1100000 entries, 0 to 1099999\n",
      "Data columns (total 10 columns):\n",
      " #   Column             Non-Null Count    Dtype  \n",
      "---  ------             --------------    -----  \n",
      " 0   cust_num           1100000 non-null  object \n",
      " 1   sku                1100000 non-null  object \n",
      " 2   category           1100000 non-null  object \n",
      " 3   qty                1100000 non-null  int64  \n",
      " 4   list_price         1100000 non-null  float64\n",
      " 5   discount_rate      1100000 non-null  float64\n",
      " 6   invoice_price      1100000 non-null  float64\n",
      " 7   invoice_num        1100000 non-null  int64  \n",
      " 8   invoice_date_time  1100000 non-null  object \n",
      " 9   invoice_total      1100000 non-null  float64\n",
      "dtypes: float64(4), int64(2), object(4)\n",
      "memory usage: 83.9+ MB\n"
     ]
    }
   ],
   "source": [
    "df.info()"
   ]
  },
  {
   "cell_type": "code",
   "execution_count": 5,
   "metadata": {},
   "outputs": [
    {
     "data": {
      "text/html": [
       "<style  type=\"text/css\" >\n",
       "</style><table id=\"T_dac54695_0295_11eb_b35a_98fa9bfcede1\" ><thead>    <tr>        <th class=\"blank level0\" ></th>        <th class=\"col_heading level0 col0\" >invoice_total</th>        <th class=\"col_heading level0 col1\" >invoice_num</th>    </tr>    <tr>        <th class=\"blank level1\" ></th>        <th class=\"col_heading level1 col0\" >sum</th>        <th class=\"col_heading level1 col1\" >nunique</th>    </tr>    <tr>        <th class=\"index_name level0\" >category</th>        <th class=\"blank\" ></th>        <th class=\"blank\" ></th>    </tr></thead><tbody>\n",
       "                <tr>\n",
       "                        <th id=\"T_dac54695_0295_11eb_b35a_98fa9bfcede1level0_row0\" class=\"row_heading level0 row0\" >books</th>\n",
       "                        <td id=\"T_dac54695_0295_11eb_b35a_98fa9bfcede1row0_col0\" class=\"data row0 col0\" >52,478,337</td>\n",
       "                        <td id=\"T_dac54695_0295_11eb_b35a_98fa9bfcede1row0_col1\" class=\"data row0 col1\" >88,845</td>\n",
       "            </tr>\n",
       "            <tr>\n",
       "                        <th id=\"T_dac54695_0295_11eb_b35a_98fa9bfcede1level0_row1\" class=\"row_heading level0 row1\" >pencils</th>\n",
       "                        <td id=\"T_dac54695_0295_11eb_b35a_98fa9bfcede1row1_col0\" class=\"data row1 col0\" >13,964,096</td>\n",
       "                        <td id=\"T_dac54695_0295_11eb_b35a_98fa9bfcede1row1_col1\" class=\"data row1 col1\" >98,743</td>\n",
       "            </tr>\n",
       "            <tr>\n",
       "                        <th id=\"T_dac54695_0295_11eb_b35a_98fa9bfcede1level0_row2\" class=\"row_heading level0 row2\" >pens</th>\n",
       "                        <td id=\"T_dac54695_0295_11eb_b35a_98fa9bfcede1row2_col0\" class=\"data row2 col0\" >20,975,695</td>\n",
       "                        <td id=\"T_dac54695_0295_11eb_b35a_98fa9bfcede1row2_col1\" class=\"data row2 col1\" >98,776</td>\n",
       "            </tr>\n",
       "    </tbody></table>"
      ],
      "text/plain": [
       "<pandas.io.formats.style.Styler at 0x1c7bb2efee0>"
      ]
     },
     "execution_count": 5,
     "metadata": {},
     "output_type": "execute_result"
    }
   ],
   "source": [
    "# Total the invoice amounts and count how many invoices there were\n",
    "agg_func = {'invoice_total': ['sum'], 'invoice_num': ['nunique']}\n",
    "df.groupby(['category']).agg(agg_func).style.format('{0:,.0f}')"
   ]
  },
  {
   "cell_type": "code",
   "execution_count": null,
   "metadata": {},
   "outputs": [],
   "source": []
  }
 ],
 "metadata": {
  "kernelspec": {
   "display_name": "Python 3",
   "language": "python",
   "name": "python3"
  },
  "language_info": {
   "codemirror_mode": {
    "name": "ipython",
    "version": 3
   },
   "file_extension": ".py",
   "mimetype": "text/x-python",
   "name": "python",
   "nbconvert_exporter": "python",
   "pygments_lexer": "ipython3",
   "version": "3.8.1"
  }
 },
 "nbformat": 4,
 "nbformat_minor": 4
}
