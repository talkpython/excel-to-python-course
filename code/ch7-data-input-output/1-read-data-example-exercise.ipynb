{
 "cells": [
  {
   "cell_type": "markdown",
   "metadata": {},
   "source": [
    "### Read in a more complicated Excel file"
   ]
  },
  {
   "cell_type": "code",
   "execution_count": 1,
   "metadata": {},
   "outputs": [],
   "source": [
    "import pandas as pd\n",
    "from pathlib import Path"
   ]
  },
  {
   "cell_type": "code",
   "execution_count": 2,
   "metadata": {},
   "outputs": [],
   "source": [
    "src_file = Path.cwd() / 'data' / 'raw' / 'excel_complicated_document.xlsx'"
   ]
  },
  {
   "cell_type": "code",
   "execution_count": 3,
   "metadata": {},
   "outputs": [],
   "source": [
    "df = pd.read_excel(src_file)"
   ]
  },
  {
   "cell_type": "code",
   "execution_count": 4,
   "metadata": {},
   "outputs": [
    {
     "data": {
      "text/html": [
       "<div>\n",
       "<style scoped>\n",
       "    .dataframe tbody tr th:only-of-type {\n",
       "        vertical-align: middle;\n",
       "    }\n",
       "\n",
       "    .dataframe tbody tr th {\n",
       "        vertical-align: top;\n",
       "    }\n",
       "\n",
       "    .dataframe thead th {\n",
       "        text-align: right;\n",
       "    }\n",
       "</style>\n",
       "<table border=\"1\" class=\"dataframe\">\n",
       "  <thead>\n",
       "    <tr style=\"text-align: right;\">\n",
       "      <th></th>\n",
       "    </tr>\n",
       "  </thead>\n",
       "  <tbody>\n",
       "  </tbody>\n",
       "</table>\n",
       "</div>"
      ],
      "text/plain": [
       "Empty DataFrame\n",
       "Columns: []\n",
       "Index: []"
      ]
     },
     "execution_count": 4,
     "metadata": {},
     "output_type": "execute_result"
    }
   ],
   "source": [
    "df.head()"
   ]
  },
  {
   "cell_type": "code",
   "execution_count": 5,
   "metadata": {},
   "outputs": [
    {
     "name": "stdout",
     "output_type": "stream",
     "text": [
      "<class 'pandas.core.frame.DataFrame'>\n",
      "RangeIndex: 0 entries\n",
      "Empty DataFrame\n"
     ]
    }
   ],
   "source": [
    "df.info()"
   ]
  },
  {
   "cell_type": "code",
   "execution_count": 6,
   "metadata": {},
   "outputs": [],
   "source": [
    "df = pd.read_excel(src_file, sheet_name='sales data')"
   ]
  },
  {
   "cell_type": "code",
   "execution_count": 7,
   "metadata": {},
   "outputs": [
    {
     "data": {
      "text/html": [
       "<div>\n",
       "<style scoped>\n",
       "    .dataframe tbody tr th:only-of-type {\n",
       "        vertical-align: middle;\n",
       "    }\n",
       "\n",
       "    .dataframe tbody tr th {\n",
       "        vertical-align: top;\n",
       "    }\n",
       "\n",
       "    .dataframe thead th {\n",
       "        text-align: right;\n",
       "    }\n",
       "</style>\n",
       "<table border=\"1\" class=\"dataframe\">\n",
       "  <thead>\n",
       "    <tr style=\"text-align: right;\">\n",
       "      <th></th>\n",
       "      <th>invoice</th>\n",
       "      <th>company</th>\n",
       "      <th>purchase_date</th>\n",
       "      <th>product</th>\n",
       "      <th>quantity</th>\n",
       "      <th>price</th>\n",
       "      <th>extended amount</th>\n",
       "      <th>Average Price</th>\n",
       "      <th>22.816</th>\n",
       "    </tr>\n",
       "  </thead>\n",
       "  <tbody>\n",
       "    <tr>\n",
       "      <th>0</th>\n",
       "      <td>ZN-870-29</td>\n",
       "      <td>Realcube</td>\n",
       "      <td>2019-03-05</td>\n",
       "      <td>shirt</td>\n",
       "      <td>19</td>\n",
       "      <td>17</td>\n",
       "      <td>323</td>\n",
       "      <td>Standard Deviation</td>\n",
       "      <td>7.533269</td>\n",
       "    </tr>\n",
       "    <tr>\n",
       "      <th>1</th>\n",
       "      <td>JQ-501-63</td>\n",
       "      <td>Zooxo</td>\n",
       "      <td>2019-07-09</td>\n",
       "      <td>book</td>\n",
       "      <td>30</td>\n",
       "      <td>14</td>\n",
       "      <td>420</td>\n",
       "      <td>NaN</td>\n",
       "      <td>NaN</td>\n",
       "    </tr>\n",
       "    <tr>\n",
       "      <th>2</th>\n",
       "      <td>FI-165-58</td>\n",
       "      <td>Dabtype</td>\n",
       "      <td>2019-08-12</td>\n",
       "      <td>poster</td>\n",
       "      <td>7</td>\n",
       "      <td>23</td>\n",
       "      <td>161</td>\n",
       "      <td>Total Qty Sold</td>\n",
       "      <td>NaN</td>\n",
       "    </tr>\n",
       "    <tr>\n",
       "      <th>3</th>\n",
       "      <td>XP-005-55</td>\n",
       "      <td>Skipfire</td>\n",
       "      <td>2019-11-18</td>\n",
       "      <td>pen</td>\n",
       "      <td>7</td>\n",
       "      <td>29</td>\n",
       "      <td>203</td>\n",
       "      <td>shirt</td>\n",
       "      <td>6249.000000</td>\n",
       "    </tr>\n",
       "    <tr>\n",
       "      <th>4</th>\n",
       "      <td>NB-917-18</td>\n",
       "      <td>Bluezoom</td>\n",
       "      <td>2019-04-18</td>\n",
       "      <td>poster</td>\n",
       "      <td>36</td>\n",
       "      <td>19</td>\n",
       "      <td>684</td>\n",
       "      <td>book</td>\n",
       "      <td>5340.000000</td>\n",
       "    </tr>\n",
       "  </tbody>\n",
       "</table>\n",
       "</div>"
      ],
      "text/plain": [
       "     invoice   company purchase_date product  quantity  price   \n",
       "0  ZN-870-29  Realcube    2019-03-05   shirt        19     17  \\\n",
       "1  JQ-501-63     Zooxo    2019-07-09    book        30     14   \n",
       "2  FI-165-58   Dabtype    2019-08-12  poster         7     23   \n",
       "3  XP-005-55  Skipfire    2019-11-18     pen         7     29   \n",
       "4  NB-917-18  Bluezoom    2019-04-18  poster        36     19   \n",
       "\n",
       "   extended amount       Average Price       22.816  \n",
       "0              323  Standard Deviation     7.533269  \n",
       "1              420                 NaN          NaN  \n",
       "2              161      Total Qty Sold          NaN  \n",
       "3              203               shirt  6249.000000  \n",
       "4              684                book  5340.000000  "
      ]
     },
     "execution_count": 7,
     "metadata": {},
     "output_type": "execute_result"
    }
   ],
   "source": [
    "df.head()"
   ]
  },
  {
   "cell_type": "code",
   "execution_count": 8,
   "metadata": {},
   "outputs": [],
   "source": [
    "df = pd.read_excel(src_file, sheet_name='sales data', usecols='A:G')"
   ]
  },
  {
   "cell_type": "code",
   "execution_count": 9,
   "metadata": {},
   "outputs": [
    {
     "data": {
      "text/html": [
       "<div>\n",
       "<style scoped>\n",
       "    .dataframe tbody tr th:only-of-type {\n",
       "        vertical-align: middle;\n",
       "    }\n",
       "\n",
       "    .dataframe tbody tr th {\n",
       "        vertical-align: top;\n",
       "    }\n",
       "\n",
       "    .dataframe thead th {\n",
       "        text-align: right;\n",
       "    }\n",
       "</style>\n",
       "<table border=\"1\" class=\"dataframe\">\n",
       "  <thead>\n",
       "    <tr style=\"text-align: right;\">\n",
       "      <th></th>\n",
       "      <th>invoice</th>\n",
       "      <th>company</th>\n",
       "      <th>purchase_date</th>\n",
       "      <th>product</th>\n",
       "      <th>quantity</th>\n",
       "      <th>price</th>\n",
       "      <th>extended amount</th>\n",
       "    </tr>\n",
       "  </thead>\n",
       "  <tbody>\n",
       "    <tr>\n",
       "      <th>0</th>\n",
       "      <td>ZN-870-29</td>\n",
       "      <td>Realcube</td>\n",
       "      <td>2019-03-05</td>\n",
       "      <td>shirt</td>\n",
       "      <td>19</td>\n",
       "      <td>17</td>\n",
       "      <td>323</td>\n",
       "    </tr>\n",
       "    <tr>\n",
       "      <th>1</th>\n",
       "      <td>JQ-501-63</td>\n",
       "      <td>Zooxo</td>\n",
       "      <td>2019-07-09</td>\n",
       "      <td>book</td>\n",
       "      <td>30</td>\n",
       "      <td>14</td>\n",
       "      <td>420</td>\n",
       "    </tr>\n",
       "    <tr>\n",
       "      <th>2</th>\n",
       "      <td>FI-165-58</td>\n",
       "      <td>Dabtype</td>\n",
       "      <td>2019-08-12</td>\n",
       "      <td>poster</td>\n",
       "      <td>7</td>\n",
       "      <td>23</td>\n",
       "      <td>161</td>\n",
       "    </tr>\n",
       "    <tr>\n",
       "      <th>3</th>\n",
       "      <td>XP-005-55</td>\n",
       "      <td>Skipfire</td>\n",
       "      <td>2019-11-18</td>\n",
       "      <td>pen</td>\n",
       "      <td>7</td>\n",
       "      <td>29</td>\n",
       "      <td>203</td>\n",
       "    </tr>\n",
       "    <tr>\n",
       "      <th>4</th>\n",
       "      <td>NB-917-18</td>\n",
       "      <td>Bluezoom</td>\n",
       "      <td>2019-04-18</td>\n",
       "      <td>poster</td>\n",
       "      <td>36</td>\n",
       "      <td>19</td>\n",
       "      <td>684</td>\n",
       "    </tr>\n",
       "  </tbody>\n",
       "</table>\n",
       "</div>"
      ],
      "text/plain": [
       "     invoice   company purchase_date product  quantity  price  extended amount\n",
       "0  ZN-870-29  Realcube    2019-03-05   shirt        19     17              323\n",
       "1  JQ-501-63     Zooxo    2019-07-09    book        30     14              420\n",
       "2  FI-165-58   Dabtype    2019-08-12  poster         7     23              161\n",
       "3  XP-005-55  Skipfire    2019-11-18     pen         7     29              203\n",
       "4  NB-917-18  Bluezoom    2019-04-18  poster        36     19              684"
      ]
     },
     "execution_count": 9,
     "metadata": {},
     "output_type": "execute_result"
    }
   ],
   "source": [
    "df.head()"
   ]
  },
  {
   "cell_type": "code",
   "execution_count": 10,
   "metadata": {},
   "outputs": [
    {
     "name": "stdout",
     "output_type": "stream",
     "text": [
      "<class 'pandas.core.frame.DataFrame'>\n",
      "RangeIndex: 1000 entries, 0 to 999\n",
      "Data columns (total 7 columns):\n",
      " #   Column           Non-Null Count  Dtype         \n",
      "---  ------           --------------  -----         \n",
      " 0   invoice          1000 non-null   object        \n",
      " 1   company          1000 non-null   object        \n",
      " 2   purchase_date    1000 non-null   datetime64[ns]\n",
      " 3   product          1000 non-null   object        \n",
      " 4   quantity         1000 non-null   int64         \n",
      " 5   price            1000 non-null   int64         \n",
      " 6   extended amount  1000 non-null   int64         \n",
      "dtypes: datetime64[ns](1), int64(3), object(3)\n",
      "memory usage: 54.8+ KB\n"
     ]
    }
   ],
   "source": [
    "df.info()"
   ]
  },
  {
   "cell_type": "code",
   "execution_count": 11,
   "metadata": {},
   "outputs": [],
   "source": [
    "df_levels = pd.read_excel(src_file, sheet_name='levels')"
   ]
  },
  {
   "cell_type": "code",
   "execution_count": 12,
   "metadata": {},
   "outputs": [
    {
     "data": {
      "text/html": [
       "<div>\n",
       "<style scoped>\n",
       "    .dataframe tbody tr th:only-of-type {\n",
       "        vertical-align: middle;\n",
       "    }\n",
       "\n",
       "    .dataframe tbody tr th {\n",
       "        vertical-align: top;\n",
       "    }\n",
       "\n",
       "    .dataframe thead th {\n",
       "        text-align: right;\n",
       "    }\n",
       "</style>\n",
       "<table border=\"1\" class=\"dataframe\">\n",
       "  <thead>\n",
       "    <tr style=\"text-align: right;\">\n",
       "      <th></th>\n",
       "      <th>Compiled by hand</th>\n",
       "      <th>Unnamed: 1</th>\n",
       "      <th>Unnamed: 2</th>\n",
       "      <th>Unnamed: 3</th>\n",
       "      <th>Unnamed: 4</th>\n",
       "      <th>Unnamed: 5</th>\n",
       "      <th>Unnamed: 6</th>\n",
       "      <th>Unnamed: 7</th>\n",
       "    </tr>\n",
       "  </thead>\n",
       "  <tbody>\n",
       "    <tr>\n",
       "      <th>0</th>\n",
       "      <td>NaN</td>\n",
       "      <td>NaN</td>\n",
       "      <td>New Levels from the CMO</td>\n",
       "      <td>NaN</td>\n",
       "      <td>NaN</td>\n",
       "      <td>NaN</td>\n",
       "      <td>NaN</td>\n",
       "      <td>NaN</td>\n",
       "    </tr>\n",
       "    <tr>\n",
       "      <th>1</th>\n",
       "      <td>Company Name</td>\n",
       "      <td>Notes</td>\n",
       "      <td>level</td>\n",
       "      <td>ZipCode</td>\n",
       "      <td>update_month</td>\n",
       "      <td>update_day</td>\n",
       "      <td>update_year</td>\n",
       "      <td>pct_to_target</td>\n",
       "    </tr>\n",
       "    <tr>\n",
       "      <th>2</th>\n",
       "      <td>Abatz</td>\n",
       "      <td>Not Sure about this one</td>\n",
       "      <td>diamond</td>\n",
       "      <td>14150</td>\n",
       "      <td>3</td>\n",
       "      <td>1</td>\n",
       "      <td>2019</td>\n",
       "      <td>100%</td>\n",
       "    </tr>\n",
       "    <tr>\n",
       "      <th>3</th>\n",
       "      <td>Agivu</td>\n",
       "      <td>NaN</td>\n",
       "      <td>silver</td>\n",
       "      <td>61354</td>\n",
       "      <td>3</td>\n",
       "      <td>1</td>\n",
       "      <td>2019</td>\n",
       "      <td>90%</td>\n",
       "    </tr>\n",
       "    <tr>\n",
       "      <th>4</th>\n",
       "      <td>Aibox</td>\n",
       "      <td>NaN</td>\n",
       "      <td>platinum</td>\n",
       "      <td>04442</td>\n",
       "      <td>3</td>\n",
       "      <td>1</td>\n",
       "      <td>2019</td>\n",
       "      <td>105%</td>\n",
       "    </tr>\n",
       "  </tbody>\n",
       "</table>\n",
       "</div>"
      ],
      "text/plain": [
       "  Compiled by hand               Unnamed: 1               Unnamed: 2   \n",
       "0              NaN                      NaN  New Levels from the CMO  \\\n",
       "1     Company Name                    Notes                    level   \n",
       "2            Abatz  Not Sure about this one                  diamond   \n",
       "3            Agivu                      NaN                   silver   \n",
       "4            Aibox                      NaN                 platinum   \n",
       "\n",
       "  Unnamed: 3    Unnamed: 4  Unnamed: 5   Unnamed: 6     Unnamed: 7  \n",
       "0        NaN           NaN         NaN          NaN            NaN  \n",
       "1    ZipCode  update_month  update_day  update_year  pct_to_target  \n",
       "2      14150             3           1         2019           100%  \n",
       "3      61354             3           1         2019            90%  \n",
       "4      04442             3           1         2019           105%  "
      ]
     },
     "execution_count": 12,
     "metadata": {},
     "output_type": "execute_result"
    }
   ],
   "source": [
    "df_levels.head()"
   ]
  },
  {
   "cell_type": "code",
   "execution_count": 13,
   "metadata": {},
   "outputs": [],
   "source": [
    "df_levels = pd.read_excel(src_file, sheet_name='levels', header=2)"
   ]
  },
  {
   "cell_type": "code",
   "execution_count": 14,
   "metadata": {},
   "outputs": [
    {
     "data": {
      "text/html": [
       "<div>\n",
       "<style scoped>\n",
       "    .dataframe tbody tr th:only-of-type {\n",
       "        vertical-align: middle;\n",
       "    }\n",
       "\n",
       "    .dataframe tbody tr th {\n",
       "        vertical-align: top;\n",
       "    }\n",
       "\n",
       "    .dataframe thead th {\n",
       "        text-align: right;\n",
       "    }\n",
       "</style>\n",
       "<table border=\"1\" class=\"dataframe\">\n",
       "  <thead>\n",
       "    <tr style=\"text-align: right;\">\n",
       "      <th></th>\n",
       "      <th>Company Name</th>\n",
       "      <th>Notes</th>\n",
       "      <th>level</th>\n",
       "      <th>ZipCode</th>\n",
       "      <th>update_month</th>\n",
       "      <th>update_day</th>\n",
       "      <th>update_year</th>\n",
       "      <th>pct_to_target</th>\n",
       "    </tr>\n",
       "  </thead>\n",
       "  <tbody>\n",
       "    <tr>\n",
       "      <th>0</th>\n",
       "      <td>Abatz</td>\n",
       "      <td>Not Sure about this one</td>\n",
       "      <td>diamond</td>\n",
       "      <td>14150</td>\n",
       "      <td>3</td>\n",
       "      <td>1</td>\n",
       "      <td>2019</td>\n",
       "      <td>100%</td>\n",
       "    </tr>\n",
       "    <tr>\n",
       "      <th>1</th>\n",
       "      <td>Agivu</td>\n",
       "      <td>NaN</td>\n",
       "      <td>silver</td>\n",
       "      <td>61354</td>\n",
       "      <td>3</td>\n",
       "      <td>1</td>\n",
       "      <td>2019</td>\n",
       "      <td>90%</td>\n",
       "    </tr>\n",
       "    <tr>\n",
       "      <th>2</th>\n",
       "      <td>Aibox</td>\n",
       "      <td>NaN</td>\n",
       "      <td>platinum</td>\n",
       "      <td>4442</td>\n",
       "      <td>3</td>\n",
       "      <td>1</td>\n",
       "      <td>2019</td>\n",
       "      <td>105%</td>\n",
       "    </tr>\n",
       "    <tr>\n",
       "      <th>3</th>\n",
       "      <td>Ailane</td>\n",
       "      <td>NaN</td>\n",
       "      <td>silver</td>\n",
       "      <td>78595</td>\n",
       "      <td>3</td>\n",
       "      <td>1</td>\n",
       "      <td>2019</td>\n",
       "      <td>60%</td>\n",
       "    </tr>\n",
       "    <tr>\n",
       "      <th>4</th>\n",
       "      <td>Aimbo</td>\n",
       "      <td>NaN</td>\n",
       "      <td>diamond</td>\n",
       "      <td>55447</td>\n",
       "      <td>3</td>\n",
       "      <td>1</td>\n",
       "      <td>2019</td>\n",
       "      <td>100%</td>\n",
       "    </tr>\n",
       "  </tbody>\n",
       "</table>\n",
       "</div>"
      ],
      "text/plain": [
       "  Company Name                    Notes     level  ZipCode  update_month   \n",
       "0        Abatz  Not Sure about this one   diamond    14150             3  \\\n",
       "1        Agivu                      NaN    silver    61354             3   \n",
       "2        Aibox                      NaN  platinum     4442             3   \n",
       "3       Ailane                      NaN    silver    78595             3   \n",
       "4        Aimbo                      NaN   diamond    55447             3   \n",
       "\n",
       "   update_day  update_year pct_to_target  \n",
       "0           1         2019          100%  \n",
       "1           1         2019           90%  \n",
       "2           1         2019          105%  \n",
       "3           1         2019           60%  \n",
       "4           1         2019          100%  "
      ]
     },
     "execution_count": 14,
     "metadata": {},
     "output_type": "execute_result"
    }
   ],
   "source": [
    "df_levels.head()"
   ]
  },
  {
   "cell_type": "code",
   "execution_count": 15,
   "metadata": {},
   "outputs": [],
   "source": [
    "df_levels = pd.read_excel(src_file, sheet_name='levels', header=2, usecols='A,C:H')"
   ]
  },
  {
   "cell_type": "code",
   "execution_count": 16,
   "metadata": {},
   "outputs": [
    {
     "data": {
      "text/html": [
       "<div>\n",
       "<style scoped>\n",
       "    .dataframe tbody tr th:only-of-type {\n",
       "        vertical-align: middle;\n",
       "    }\n",
       "\n",
       "    .dataframe tbody tr th {\n",
       "        vertical-align: top;\n",
       "    }\n",
       "\n",
       "    .dataframe thead th {\n",
       "        text-align: right;\n",
       "    }\n",
       "</style>\n",
       "<table border=\"1\" class=\"dataframe\">\n",
       "  <thead>\n",
       "    <tr style=\"text-align: right;\">\n",
       "      <th></th>\n",
       "      <th>Company Name</th>\n",
       "      <th>level</th>\n",
       "      <th>ZipCode</th>\n",
       "      <th>update_month</th>\n",
       "      <th>update_day</th>\n",
       "      <th>update_year</th>\n",
       "      <th>pct_to_target</th>\n",
       "    </tr>\n",
       "  </thead>\n",
       "  <tbody>\n",
       "    <tr>\n",
       "      <th>0</th>\n",
       "      <td>Abatz</td>\n",
       "      <td>diamond</td>\n",
       "      <td>14150</td>\n",
       "      <td>3</td>\n",
       "      <td>1</td>\n",
       "      <td>2019</td>\n",
       "      <td>100%</td>\n",
       "    </tr>\n",
       "    <tr>\n",
       "      <th>1</th>\n",
       "      <td>Agivu</td>\n",
       "      <td>silver</td>\n",
       "      <td>61354</td>\n",
       "      <td>3</td>\n",
       "      <td>1</td>\n",
       "      <td>2019</td>\n",
       "      <td>90%</td>\n",
       "    </tr>\n",
       "    <tr>\n",
       "      <th>2</th>\n",
       "      <td>Aibox</td>\n",
       "      <td>platinum</td>\n",
       "      <td>4442</td>\n",
       "      <td>3</td>\n",
       "      <td>1</td>\n",
       "      <td>2019</td>\n",
       "      <td>105%</td>\n",
       "    </tr>\n",
       "    <tr>\n",
       "      <th>3</th>\n",
       "      <td>Ailane</td>\n",
       "      <td>silver</td>\n",
       "      <td>78595</td>\n",
       "      <td>3</td>\n",
       "      <td>1</td>\n",
       "      <td>2019</td>\n",
       "      <td>60%</td>\n",
       "    </tr>\n",
       "    <tr>\n",
       "      <th>4</th>\n",
       "      <td>Aimbo</td>\n",
       "      <td>diamond</td>\n",
       "      <td>55447</td>\n",
       "      <td>3</td>\n",
       "      <td>1</td>\n",
       "      <td>2019</td>\n",
       "      <td>100%</td>\n",
       "    </tr>\n",
       "  </tbody>\n",
       "</table>\n",
       "</div>"
      ],
      "text/plain": [
       "  Company Name     level  ZipCode  update_month  update_day  update_year   \n",
       "0        Abatz   diamond    14150             3           1         2019  \\\n",
       "1        Agivu    silver    61354             3           1         2019   \n",
       "2        Aibox  platinum     4442             3           1         2019   \n",
       "3       Ailane    silver    78595             3           1         2019   \n",
       "4        Aimbo   diamond    55447             3           1         2019   \n",
       "\n",
       "  pct_to_target  \n",
       "0          100%  \n",
       "1           90%  \n",
       "2          105%  \n",
       "3           60%  \n",
       "4          100%  "
      ]
     },
     "execution_count": 16,
     "metadata": {},
     "output_type": "execute_result"
    }
   ],
   "source": [
    "df_levels.head()"
   ]
  },
  {
   "cell_type": "markdown",
   "metadata": {},
   "source": [
    "## Working with data types"
   ]
  },
  {
   "cell_type": "code",
   "execution_count": 17,
   "metadata": {},
   "outputs": [
    {
     "name": "stdout",
     "output_type": "stream",
     "text": [
      "<class 'pandas.core.frame.DataFrame'>\n",
      "RangeIndex: 351 entries, 0 to 350\n",
      "Data columns (total 7 columns):\n",
      " #   Column         Non-Null Count  Dtype \n",
      "---  ------         --------------  ----- \n",
      " 0   Company Name   351 non-null    object\n",
      " 1   level          351 non-null    object\n",
      " 2   ZipCode        351 non-null    int64 \n",
      " 3   update_month   351 non-null    int64 \n",
      " 4   update_day     351 non-null    int64 \n",
      " 5   update_year    351 non-null    int64 \n",
      " 6   pct_to_target  351 non-null    object\n",
      "dtypes: int64(4), object(3)\n",
      "memory usage: 19.3+ KB\n"
     ]
    }
   ],
   "source": [
    "df_levels.info()"
   ]
  },
  {
   "cell_type": "code",
   "execution_count": 18,
   "metadata": {},
   "outputs": [],
   "source": [
    "df_levels = pd.read_excel(src_file,\n",
    "                          sheet_name='levels',\n",
    "                          header=2,\n",
    "                          usecols='A,C:H',\n",
    "                          parse_dates={'update_date': [3,4,5]})"
   ]
  },
  {
   "cell_type": "code",
   "execution_count": 19,
   "metadata": {},
   "outputs": [
    {
     "data": {
      "text/html": [
       "<div>\n",
       "<style scoped>\n",
       "    .dataframe tbody tr th:only-of-type {\n",
       "        vertical-align: middle;\n",
       "    }\n",
       "\n",
       "    .dataframe tbody tr th {\n",
       "        vertical-align: top;\n",
       "    }\n",
       "\n",
       "    .dataframe thead th {\n",
       "        text-align: right;\n",
       "    }\n",
       "</style>\n",
       "<table border=\"1\" class=\"dataframe\">\n",
       "  <thead>\n",
       "    <tr style=\"text-align: right;\">\n",
       "      <th></th>\n",
       "      <th>update_date</th>\n",
       "      <th>Company Name</th>\n",
       "      <th>level</th>\n",
       "      <th>ZipCode</th>\n",
       "      <th>pct_to_target</th>\n",
       "    </tr>\n",
       "  </thead>\n",
       "  <tbody>\n",
       "    <tr>\n",
       "      <th>0</th>\n",
       "      <td>2019-03-01</td>\n",
       "      <td>Abatz</td>\n",
       "      <td>diamond</td>\n",
       "      <td>14150</td>\n",
       "      <td>100%</td>\n",
       "    </tr>\n",
       "    <tr>\n",
       "      <th>1</th>\n",
       "      <td>2019-03-01</td>\n",
       "      <td>Agivu</td>\n",
       "      <td>silver</td>\n",
       "      <td>61354</td>\n",
       "      <td>90%</td>\n",
       "    </tr>\n",
       "    <tr>\n",
       "      <th>2</th>\n",
       "      <td>2019-03-01</td>\n",
       "      <td>Aibox</td>\n",
       "      <td>platinum</td>\n",
       "      <td>4442</td>\n",
       "      <td>105%</td>\n",
       "    </tr>\n",
       "    <tr>\n",
       "      <th>3</th>\n",
       "      <td>2019-03-01</td>\n",
       "      <td>Ailane</td>\n",
       "      <td>silver</td>\n",
       "      <td>78595</td>\n",
       "      <td>60%</td>\n",
       "    </tr>\n",
       "    <tr>\n",
       "      <th>4</th>\n",
       "      <td>2019-03-01</td>\n",
       "      <td>Aimbo</td>\n",
       "      <td>diamond</td>\n",
       "      <td>55447</td>\n",
       "      <td>100%</td>\n",
       "    </tr>\n",
       "  </tbody>\n",
       "</table>\n",
       "</div>"
      ],
      "text/plain": [
       "  update_date Company Name     level  ZipCode pct_to_target\n",
       "0  2019-03-01        Abatz   diamond    14150          100%\n",
       "1  2019-03-01        Agivu    silver    61354           90%\n",
       "2  2019-03-01        Aibox  platinum     4442          105%\n",
       "3  2019-03-01       Ailane    silver    78595           60%\n",
       "4  2019-03-01        Aimbo   diamond    55447          100%"
      ]
     },
     "execution_count": 19,
     "metadata": {},
     "output_type": "execute_result"
    }
   ],
   "source": [
    "df_levels.head()"
   ]
  },
  {
   "cell_type": "code",
   "execution_count": 20,
   "metadata": {},
   "outputs": [
    {
     "name": "stdout",
     "output_type": "stream",
     "text": [
      "<class 'pandas.core.frame.DataFrame'>\n",
      "RangeIndex: 351 entries, 0 to 350\n",
      "Data columns (total 5 columns):\n",
      " #   Column         Non-Null Count  Dtype         \n",
      "---  ------         --------------  -----         \n",
      " 0   update_date    351 non-null    datetime64[ns]\n",
      " 1   Company Name   351 non-null    object        \n",
      " 2   level          351 non-null    object        \n",
      " 3   ZipCode        351 non-null    int64         \n",
      " 4   pct_to_target  351 non-null    object        \n",
      "dtypes: datetime64[ns](1), int64(1), object(3)\n",
      "memory usage: 13.8+ KB\n"
     ]
    }
   ],
   "source": [
    "df_levels.info()"
   ]
  },
  {
   "cell_type": "code",
   "execution_count": 21,
   "metadata": {},
   "outputs": [
    {
     "data": {
      "text/html": [
       "<div>\n",
       "<style scoped>\n",
       "    .dataframe tbody tr th:only-of-type {\n",
       "        vertical-align: middle;\n",
       "    }\n",
       "\n",
       "    .dataframe tbody tr th {\n",
       "        vertical-align: top;\n",
       "    }\n",
       "\n",
       "    .dataframe thead th {\n",
       "        text-align: right;\n",
       "    }\n",
       "</style>\n",
       "<table border=\"1\" class=\"dataframe\">\n",
       "  <thead>\n",
       "    <tr style=\"text-align: right;\">\n",
       "      <th></th>\n",
       "      <th>update_date</th>\n",
       "      <th>Company Name</th>\n",
       "      <th>level</th>\n",
       "      <th>ZipCode</th>\n",
       "      <th>pct_to_target</th>\n",
       "    </tr>\n",
       "  </thead>\n",
       "  <tbody>\n",
       "    <tr>\n",
       "      <th>0</th>\n",
       "      <td>2019-03-01</td>\n",
       "      <td>Abatz</td>\n",
       "      <td>diamond</td>\n",
       "      <td>14150</td>\n",
       "      <td>100%</td>\n",
       "    </tr>\n",
       "    <tr>\n",
       "      <th>1</th>\n",
       "      <td>2019-03-01</td>\n",
       "      <td>Agivu</td>\n",
       "      <td>silver</td>\n",
       "      <td>61354</td>\n",
       "      <td>90%</td>\n",
       "    </tr>\n",
       "    <tr>\n",
       "      <th>2</th>\n",
       "      <td>2019-03-01</td>\n",
       "      <td>Aibox</td>\n",
       "      <td>platinum</td>\n",
       "      <td>4442</td>\n",
       "      <td>105%</td>\n",
       "    </tr>\n",
       "    <tr>\n",
       "      <th>3</th>\n",
       "      <td>2019-03-01</td>\n",
       "      <td>Ailane</td>\n",
       "      <td>silver</td>\n",
       "      <td>78595</td>\n",
       "      <td>60%</td>\n",
       "    </tr>\n",
       "    <tr>\n",
       "      <th>4</th>\n",
       "      <td>2019-03-01</td>\n",
       "      <td>Aimbo</td>\n",
       "      <td>diamond</td>\n",
       "      <td>55447</td>\n",
       "      <td>100%</td>\n",
       "    </tr>\n",
       "  </tbody>\n",
       "</table>\n",
       "</div>"
      ],
      "text/plain": [
       "  update_date Company Name     level  ZipCode pct_to_target\n",
       "0  2019-03-01        Abatz   diamond    14150          100%\n",
       "1  2019-03-01        Agivu    silver    61354           90%\n",
       "2  2019-03-01        Aibox  platinum     4442          105%\n",
       "3  2019-03-01       Ailane    silver    78595           60%\n",
       "4  2019-03-01        Aimbo   diamond    55447          100%"
      ]
     },
     "execution_count": 21,
     "metadata": {},
     "output_type": "execute_result"
    }
   ],
   "source": [
    "df_levels.head()"
   ]
  },
  {
   "cell_type": "code",
   "execution_count": 22,
   "metadata": {},
   "outputs": [],
   "source": [
    "df_levels = pd.read_excel(src_file,\n",
    "                          sheet_name='levels',\n",
    "                          header=2,\n",
    "                          usecols='A,C:H',\n",
    "                          parse_dates={'update_date': [3,4,5]},\n",
    "                          dtype={'ZipCode': 'object'})"
   ]
  },
  {
   "cell_type": "code",
   "execution_count": 23,
   "metadata": {},
   "outputs": [
    {
     "data": {
      "text/html": [
       "<div>\n",
       "<style scoped>\n",
       "    .dataframe tbody tr th:only-of-type {\n",
       "        vertical-align: middle;\n",
       "    }\n",
       "\n",
       "    .dataframe tbody tr th {\n",
       "        vertical-align: top;\n",
       "    }\n",
       "\n",
       "    .dataframe thead th {\n",
       "        text-align: right;\n",
       "    }\n",
       "</style>\n",
       "<table border=\"1\" class=\"dataframe\">\n",
       "  <thead>\n",
       "    <tr style=\"text-align: right;\">\n",
       "      <th></th>\n",
       "      <th>update_date</th>\n",
       "      <th>Company Name</th>\n",
       "      <th>level</th>\n",
       "      <th>ZipCode</th>\n",
       "      <th>pct_to_target</th>\n",
       "    </tr>\n",
       "  </thead>\n",
       "  <tbody>\n",
       "    <tr>\n",
       "      <th>0</th>\n",
       "      <td>2019-03-01</td>\n",
       "      <td>Abatz</td>\n",
       "      <td>diamond</td>\n",
       "      <td>14150</td>\n",
       "      <td>100%</td>\n",
       "    </tr>\n",
       "    <tr>\n",
       "      <th>1</th>\n",
       "      <td>2019-03-01</td>\n",
       "      <td>Agivu</td>\n",
       "      <td>silver</td>\n",
       "      <td>61354</td>\n",
       "      <td>90%</td>\n",
       "    </tr>\n",
       "    <tr>\n",
       "      <th>2</th>\n",
       "      <td>2019-03-01</td>\n",
       "      <td>Aibox</td>\n",
       "      <td>platinum</td>\n",
       "      <td>04442</td>\n",
       "      <td>105%</td>\n",
       "    </tr>\n",
       "    <tr>\n",
       "      <th>3</th>\n",
       "      <td>2019-03-01</td>\n",
       "      <td>Ailane</td>\n",
       "      <td>silver</td>\n",
       "      <td>78595</td>\n",
       "      <td>60%</td>\n",
       "    </tr>\n",
       "    <tr>\n",
       "      <th>4</th>\n",
       "      <td>2019-03-01</td>\n",
       "      <td>Aimbo</td>\n",
       "      <td>diamond</td>\n",
       "      <td>55447</td>\n",
       "      <td>100%</td>\n",
       "    </tr>\n",
       "  </tbody>\n",
       "</table>\n",
       "</div>"
      ],
      "text/plain": [
       "  update_date Company Name     level ZipCode pct_to_target\n",
       "0  2019-03-01        Abatz   diamond   14150          100%\n",
       "1  2019-03-01        Agivu    silver   61354           90%\n",
       "2  2019-03-01        Aibox  platinum   04442          105%\n",
       "3  2019-03-01       Ailane    silver   78595           60%\n",
       "4  2019-03-01        Aimbo   diamond   55447          100%"
      ]
     },
     "execution_count": 23,
     "metadata": {},
     "output_type": "execute_result"
    }
   ],
   "source": [
    "df_levels.head()"
   ]
  },
  {
   "cell_type": "code",
   "execution_count": 24,
   "metadata": {},
   "outputs": [
    {
     "name": "stdout",
     "output_type": "stream",
     "text": [
      "<class 'pandas.core.frame.DataFrame'>\n",
      "RangeIndex: 351 entries, 0 to 350\n",
      "Data columns (total 5 columns):\n",
      " #   Column         Non-Null Count  Dtype         \n",
      "---  ------         --------------  -----         \n",
      " 0   update_date    351 non-null    datetime64[ns]\n",
      " 1   Company Name   351 non-null    object        \n",
      " 2   level          351 non-null    object        \n",
      " 3   ZipCode        351 non-null    object        \n",
      " 4   pct_to_target  351 non-null    object        \n",
      "dtypes: datetime64[ns](1), object(4)\n",
      "memory usage: 13.8+ KB\n"
     ]
    }
   ],
   "source": [
    "df_levels.info()"
   ]
  },
  {
   "cell_type": "code",
   "execution_count": 25,
   "metadata": {},
   "outputs": [],
   "source": [
    "def convert_percent(val):\n",
    "    new_val = val.replace('%', '')\n",
    "    return float(new_val)/100\n",
    "    "
   ]
  },
  {
   "cell_type": "code",
   "execution_count": 26,
   "metadata": {},
   "outputs": [
    {
     "data": {
      "text/plain": [
       "0      1.00\n",
       "1      0.90\n",
       "2      1.05\n",
       "3      0.60\n",
       "4      1.00\n",
       "       ... \n",
       "346    1.05\n",
       "347    0.60\n",
       "348    1.00\n",
       "349    0.80\n",
       "350    1.05\n",
       "Name: pct_to_target, Length: 351, dtype: float64"
      ]
     },
     "execution_count": 26,
     "metadata": {},
     "output_type": "execute_result"
    }
   ],
   "source": [
    "df_levels['pct_to_target'].apply(convert_percent)"
   ]
  },
  {
   "cell_type": "code",
   "execution_count": 27,
   "metadata": {},
   "outputs": [],
   "source": [
    "df_levels = pd.read_excel(src_file,\n",
    "                          sheet_name='levels',\n",
    "                          header=2,\n",
    "                          usecols='A,C:H',\n",
    "                          parse_dates={'update_date': [3,4,5]},\n",
    "                          dtype={'ZipCode': 'object'},\n",
    "                          converters={'pct_to_target': convert_percent})"
   ]
  },
  {
   "cell_type": "code",
   "execution_count": 28,
   "metadata": {},
   "outputs": [
    {
     "data": {
      "text/html": [
       "<div>\n",
       "<style scoped>\n",
       "    .dataframe tbody tr th:only-of-type {\n",
       "        vertical-align: middle;\n",
       "    }\n",
       "\n",
       "    .dataframe tbody tr th {\n",
       "        vertical-align: top;\n",
       "    }\n",
       "\n",
       "    .dataframe thead th {\n",
       "        text-align: right;\n",
       "    }\n",
       "</style>\n",
       "<table border=\"1\" class=\"dataframe\">\n",
       "  <thead>\n",
       "    <tr style=\"text-align: right;\">\n",
       "      <th></th>\n",
       "      <th>update_date</th>\n",
       "      <th>Company Name</th>\n",
       "      <th>level</th>\n",
       "      <th>ZipCode</th>\n",
       "      <th>pct_to_target</th>\n",
       "    </tr>\n",
       "  </thead>\n",
       "  <tbody>\n",
       "    <tr>\n",
       "      <th>0</th>\n",
       "      <td>2019-03-01</td>\n",
       "      <td>Abatz</td>\n",
       "      <td>diamond</td>\n",
       "      <td>14150</td>\n",
       "      <td>1.00</td>\n",
       "    </tr>\n",
       "    <tr>\n",
       "      <th>1</th>\n",
       "      <td>2019-03-01</td>\n",
       "      <td>Agivu</td>\n",
       "      <td>silver</td>\n",
       "      <td>61354</td>\n",
       "      <td>0.90</td>\n",
       "    </tr>\n",
       "    <tr>\n",
       "      <th>2</th>\n",
       "      <td>2019-03-01</td>\n",
       "      <td>Aibox</td>\n",
       "      <td>platinum</td>\n",
       "      <td>04442</td>\n",
       "      <td>1.05</td>\n",
       "    </tr>\n",
       "    <tr>\n",
       "      <th>3</th>\n",
       "      <td>2019-03-01</td>\n",
       "      <td>Ailane</td>\n",
       "      <td>silver</td>\n",
       "      <td>78595</td>\n",
       "      <td>0.60</td>\n",
       "    </tr>\n",
       "    <tr>\n",
       "      <th>4</th>\n",
       "      <td>2019-03-01</td>\n",
       "      <td>Aimbo</td>\n",
       "      <td>diamond</td>\n",
       "      <td>55447</td>\n",
       "      <td>1.00</td>\n",
       "    </tr>\n",
       "  </tbody>\n",
       "</table>\n",
       "</div>"
      ],
      "text/plain": [
       "  update_date Company Name     level ZipCode  pct_to_target\n",
       "0  2019-03-01        Abatz   diamond   14150           1.00\n",
       "1  2019-03-01        Agivu    silver   61354           0.90\n",
       "2  2019-03-01        Aibox  platinum   04442           1.05\n",
       "3  2019-03-01       Ailane    silver   78595           0.60\n",
       "4  2019-03-01        Aimbo   diamond   55447           1.00"
      ]
     },
     "execution_count": 28,
     "metadata": {},
     "output_type": "execute_result"
    }
   ],
   "source": [
    "df_levels.head()"
   ]
  },
  {
   "cell_type": "code",
   "execution_count": 29,
   "metadata": {},
   "outputs": [
    {
     "name": "stdout",
     "output_type": "stream",
     "text": [
      "<class 'pandas.core.frame.DataFrame'>\n",
      "RangeIndex: 351 entries, 0 to 350\n",
      "Data columns (total 5 columns):\n",
      " #   Column         Non-Null Count  Dtype         \n",
      "---  ------         --------------  -----         \n",
      " 0   update_date    351 non-null    datetime64[ns]\n",
      " 1   Company Name   351 non-null    object        \n",
      " 2   level          351 non-null    object        \n",
      " 3   ZipCode        351 non-null    object        \n",
      " 4   pct_to_target  351 non-null    float64       \n",
      "dtypes: datetime64[ns](1), float64(1), object(3)\n",
      "memory usage: 13.8+ KB\n"
     ]
    }
   ],
   "source": [
    "df_levels.info()"
   ]
  },
  {
   "cell_type": "code",
   "execution_count": null,
   "metadata": {},
   "outputs": [],
   "source": []
  }
 ],
 "metadata": {
  "kernelspec": {
   "display_name": "Python 3 (ipykernel)",
   "language": "python",
   "name": "python3"
  },
  "language_info": {
   "codemirror_mode": {
    "name": "ipython",
    "version": 3
   },
   "file_extension": ".py",
   "mimetype": "text/x-python",
   "name": "python",
   "nbconvert_exporter": "python",
   "pygments_lexer": "ipython3",
   "version": "3.11.3"
  }
 },
 "nbformat": 4,
 "nbformat_minor": 4
}
